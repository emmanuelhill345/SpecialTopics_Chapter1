{
 "cells": [
  {
   "cell_type": "markdown",
   "metadata": {},
   "source": [
    "# This program finds the roots of a quadratic equation."
   ]
  },
  {
   "cell_type": "code",
   "execution_count": 4,
   "metadata": {},
   "outputs": [
    {
     "name": "stdout",
     "output_type": "stream",
     "text": [
      "dataTypes of my coefficients a = <class 'float'>, b = <class 'int'>,c = <class 'int'>\n"
     ]
    }
   ],
   "source": [
    "import math\n",
    "\n",
    "a = 3.6\n",
    "b = 9\n",
    "c = 5\n",
    "\n",
    "print(\"dataTypes of my coefficients a = {}, b = {},c = {}\".format(type(a),type(b), type(c)))"
   ]
  },
  {
   "cell_type": "markdown",
   "metadata": {},
   "source": []
  },
  {
   "cell_type": "code",
   "execution_count": 17,
   "metadata": {},
   "outputs": [],
   "source": [
    "def general_formula(a,b,c):\n",
    "    determinant = b**2 - 4*a*c\n",
    "\n",
    "    if (determinant >= 0):\n",
    "        sol1 = (-b + math.sqrt(determinant))/2*a\n",
    "        sol2 = (-b - math.sqrt(determinant))/2*a\n",
    "\n",
    "        print(\"The equation has two real solution {}, and {} \\n\".format(sol1,sol2))\n",
    "    else:\n",
    "        print(\"The equation has non real solutiion \\n\")\n",
    "\n"
   ]
  },
  {
   "cell_type": "code",
   "execution_count": 18,
   "metadata": {},
   "outputs": [
    {
     "name": "stdout",
     "output_type": "stream",
     "text": [
      "The equation has non real solutiion \n",
      "\n"
     ]
    }
   ],
   "source": [
    "# Identify if the equation has a real solution or a complex solution.\n",
    "answer_quest = \"yes\"\n",
    "while(answer_quest == \"yes\"):\n",
    "    a,b,c = input(\"Please type the coefficients of your equation: \").split()\n",
    "    a = float(a)\n",
    "    b = float(b)\n",
    "    c = float(c)\n",
    "    general_formula(a,b,c)\n",
    "\n",
    "    answer_quest = input(\"\\n Do you want to keep using the application? (yes or no)\")"
   ]
  }
 ],
 "metadata": {
  "kernelspec": {
   "display_name": "Python 3.9.6 64-bit",
   "language": "python",
   "name": "python3"
  },
  "language_info": {
   "codemirror_mode": {
    "name": "ipython",
    "version": 3
   },
   "file_extension": ".py",
   "mimetype": "text/x-python",
   "name": "python",
   "nbconvert_exporter": "python",
   "pygments_lexer": "ipython3",
   "version": "3.9.6"
  },
  "orig_nbformat": 4,
  "vscode": {
   "interpreter": {
    "hash": "31f2aee4e71d21fbe5cf8b01ff0e069b9275f58929596ceb00d14d90e3e16cd6"
   }
  }
 },
 "nbformat": 4,
 "nbformat_minor": 2
}
