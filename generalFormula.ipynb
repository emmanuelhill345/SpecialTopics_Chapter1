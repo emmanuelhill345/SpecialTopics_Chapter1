{
 "cells": [
  {
   "cell_type": "markdown",
   "metadata": {},
   "source": [
    "# This program finds the roots of a quadratic equation."
   ]
  },
  {
   "cell_type": "code",
   "execution_count": 1,
   "metadata": {},
   "outputs": [
    {
     "name": "stdout",
     "output_type": "stream",
     "text": [
      "dataTypes of my coefficients a = <class 'float'>, b = <class 'int'>,c = <class 'int'>\n"
     ]
    }
   ],
   "source": [
    "import math\n",
    "import matplotlib.pyplot as plt\n",
    "import numpy as np\n",
    "\n",
    "a = 3.6\n",
    "b = 9\n",
    "c = 5\n",
    "\n",
    "print(\"dataTypes of my coefficients a = {}, b = {},c = {}\".format(type(a),type(b), type(c)))"
   ]
  },
  {
   "cell_type": "code",
   "execution_count": 2,
   "metadata": {},
   "outputs": [],
   "source": [
    "def general_formula(a,b,c):\n",
    "    determinant = b**2 - 4*a*c\n",
    "\n",
    "    if (determinant >= 0):\n",
    "        sol1 = (-b + math.sqrt(determinant))/2*a\n",
    "        sol2 = (-b - math.sqrt(determinant))/2*a\n",
    "\n",
    "        print(\"The equation has two real solution {}, and {} \\n\".format(sol1,sol2))\n",
    "    else:\n",
    "        print(\"The equation has non real solutiion \\n\")\n",
    "\n"
   ]
  },
  {
   "cell_type": "code",
   "execution_count": null,
   "metadata": {},
   "outputs": [],
   "source": [
    "def vertex_formula(a,b,c):\n",
    "    h = 0.0\n",
    "    k = 0.0\n",
    "    if(b**2-4*a*c >=0):\n",
    "        D = math.sqrt(b**2-4*a*c)\n",
    "        h = -b/(2*a)\n",
    "        k = D/(4*a)\n",
    "    return h,k"
   ]
  },
  {
   "cell_type": "code",
   "execution_count": null,
   "metadata": {},
   "outputs": [],
   "source": [
    "def plot_function():\n",
    "    #100 linearly spaced number \n",
    "    x= np.linspace(20,20,100)\n",
    "\n",
    "    y= a*x**2 + b*x +c\n",
    "\n",
    "    #setting the axes at the center\n",
    "    fig = plt.figure()\n",
    "    ax = fig.add_subplot(1,1,1)\n",
    "    ax.spines['left'].set_position('center')\n",
    "    ax.spines['bottom'].set_position('zero')\n",
    "    ax.spines['right'].set_position('none')\n",
    "    ax.spines['top'].set_position('none')\n",
    "    ax.xaxis.set_ticks_position('bottom')\n",
    "    ax.yaxis.set_ticks_position('left')\n",
    "\n",
    "    plt.plot(x,y,'r')"
   ]
  },
  {
   "cell_type": "code",
   "execution_count": null,
   "metadata": {},
   "outputs": [
    {
     "name": "stdout",
     "output_type": "stream",
     "text": [
      "The equation has non real solutiion \n",
      "\n",
      "\n",
      "The vertex of this quadratic polynomial is (0.0, 0.0)\n",
      "The equation has two real solution -0.1125178063039387, and -8.887482193696062 \n",
      "\n",
      "\n",
      "The vertex of this quadratic polynomial is (-4.5, 2.1937)\n"
     ]
    }
   ],
   "source": [
    "# Identify if the equation has a real solution or a complex solution.\n",
    "answer_quest = \"yes\"\n",
    "while(answer_quest == \"yes\"):\n",
    "    a,b,c = input(\"Please type the coefficients of your equation: \").split()\n",
    "    a = float(a)\n",
    "    b = float(b)\n",
    "    c = float(c)\n",
    "    general_formula(a,b,c)\n",
    "    h,k = vertex_formula(a,b,c)\n",
    "    print(\"\\nThe vertex of this quadratic polynomial is ({0:.5}, {1:.5})\".format(h,k))\n",
    "\n",
    "    answer_quest = input(\"\\n Do you want to keep using the application? (yes or no)\")"
   ]
  }
 ],
 "metadata": {
  "kernelspec": {
   "display_name": "Python 3.9.12 ('base')",
   "language": "python",
   "name": "python3"
  },
  "language_info": {
   "codemirror_mode": {
    "name": "ipython",
    "version": 3
   },
   "file_extension": ".py",
   "mimetype": "text/x-python",
   "name": "python",
   "nbconvert_exporter": "python",
   "pygments_lexer": "ipython3",
   "version": "3.9.12"
  },
  "orig_nbformat": 4,
  "vscode": {
   "interpreter": {
    "hash": "918852910ace25ef07071271f7a7083207f03dbb12378f47f1c42ed8f0485cd1"
   }
  }
 },
 "nbformat": 4,
 "nbformat_minor": 2
}
